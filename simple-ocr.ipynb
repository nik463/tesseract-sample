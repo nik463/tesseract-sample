{
 "cells": [
  {
   "cell_type": "code",
   "execution_count": 1,
   "source": [
    "import pytesseract\r\n",
    "pytesseract.pytesseract.tesseract_cmd=\"C:/Program Files/Tesseract-OCR/tesseract.exe\""
   ],
   "outputs": [],
   "metadata": {}
  },
  {
   "cell_type": "code",
   "execution_count": 2,
   "source": [
    "import cv2"
   ],
   "outputs": [],
   "metadata": {}
  },
  {
   "cell_type": "code",
   "execution_count": 7,
   "source": [
    "img=cv2.imread(\"C:\\\\Users\\Codemaniac\\\\Code Maniac\\\\I'm Data Scientist\\\\Tesseract\\\\1.png\")\r\n",
    "cv2.imshow('Preview',img)\r\n",
    "cv2.waitKey(0)\r\n",
    "cv2.destroyAllWindows()"
   ],
   "outputs": [],
   "metadata": {}
  },
  {
   "cell_type": "code",
   "execution_count": 8,
   "source": [
    "text=pytesseract.image_to_string(img)"
   ],
   "outputs": [],
   "metadata": {}
  },
  {
   "cell_type": "code",
   "execution_count": 9,
   "source": [
    "print(text)"
   ],
   "outputs": [
    {
     "output_type": "stream",
     "name": "stdout",
     "text": [
      "Pr sv us a ce\n",
      "hes tel ei oer\n",
      "\n",
      "Handwritten Short Answer Evaluation System (HSAES)\n",
      "Sijimol P J, Surekha Mariam Varghese\n",
      "Department of Computer Science and Engineering, Mar Athanasius College of Engineering, Kothamangalam,\n",
      "Kerala, India\n",
      "ABSTRACT\n",
      "\n",
      "This paper presents the design and implementation of an automated evaluation system for short answers.\n",
      "‘Handwritten Short Answer Evaluation System (HSAES) is an automated short answer evaluation system that is\n",
      "capable of identifying the texts in answer papers and evaluates marks for each short answer based on previous\n",
      "knowledge acquired by the model. Although many essay evaluation systems are available, short answer grading\n",
      "is still a big problem. In the proposed system, Optical Character Recognition tools are used to extract the\n",
      "handwritten texts. Natural Language Processing is used to extract the keywords from human evaluated sample\n",
      "dataset of handwritten answer papers and answer key. The proposed model evaluates scores based on cosine\n",
      "sentence similarity measures. Each sentence in the evaluated answer paper carries their corresponding mark.\n",
      "The developed model can be used to evaluate the marks of the unscored short answers.\n",
      "\n",
      "Keywords : OCR, Short Answer, NLP, Machine Learning, Scoring\n",
      "\n",
      "I. INTRODUCTION Thus in order to solve these issues the researchers\n",
      "have been proposed automated essay scoring\n",
      "The writing quality or ability of a student can be techniques. They analyses a piece of text based on its\n",
      "improved by receiving feedback from the teacher. In semantics, context and spelling. Although many essay\n",
      "Tecent years, automated essay scoring has become a evaluation systems are available, short answer grading\n",
      "hot issue in the research of natural language js till a big problem.\n",
      "processing with the growing need of essay scoring in\n",
      "\f\n"
     ]
    }
   ],
   "metadata": {}
  },
  {
   "cell_type": "code",
   "execution_count": null,
   "source": [],
   "outputs": [],
   "metadata": {}
  }
 ],
 "metadata": {
  "orig_nbformat": 4,
  "language_info": {
   "name": "python",
   "version": "3.8.8",
   "mimetype": "text/x-python",
   "codemirror_mode": {
    "name": "ipython",
    "version": 3
   },
   "pygments_lexer": "ipython3",
   "nbconvert_exporter": "python",
   "file_extension": ".py"
  },
  "kernelspec": {
   "name": "python3",
   "display_name": "Python 3.8.8 64-bit ('base': conda)"
  },
  "interpreter": {
   "hash": "2dfb52e3aa4ba112de0a955fed0da0a6f2443b46f634a54a66d4bbae1e10036a"
  }
 },
 "nbformat": 4,
 "nbformat_minor": 2
}